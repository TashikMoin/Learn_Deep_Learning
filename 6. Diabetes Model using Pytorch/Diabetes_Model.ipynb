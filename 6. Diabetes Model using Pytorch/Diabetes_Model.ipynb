{
  "nbformat": 4,
  "nbformat_minor": 0,
  "metadata": {
    "colab": {
      "name": "Untitled1.ipynb",
      "provenance": [],
      "collapsed_sections": []
    },
    "kernelspec": {
      "display_name": "Python 3",
      "name": "python3"
    },
    "language_info": {
      "name": "python"
    }
  },
  "cells": [
    {
      "cell_type": "code",
      "metadata": {
        "colab": {
          "base_uri": "https://localhost:8080/"
        },
        "id": "GhskhlVnrU-S",
        "outputId": "4c78bcf6-1bd8-4a3d-8c7a-c9ce6f4d3813"
      },
      "source": [
        "import pandas as pd\n",
        "from sklearn.model_selection import train_test_split\n",
        "import torch\n",
        "import torch.nn as NN\n",
        "import torch.nn.functional as Neural_Network_Functions\n",
        "df = pd.read_csv('diabetes.csv')\n",
        "x = df.drop('Outcome',axis=1).values # input features\n",
        "y = df['Outcome'].values # output features\n",
        "# DataFrame.drop(self, labels=None, axis=0, index=None, columns=None, level=None, inplace=False, errors='raise')\n",
        "# axis = 0 means index of dataframe and axis = 1 means columns of data frame. drop function drops a row(index/axis=0) or a column(axis=1).\n",
        "# .values converts the dataframe into numpy array\n",
        "X_Train,X_Test,Y_Train,Y_Test = train_test_split(x,y,test_size=0.2,random_state=0)\n",
        "X_Train = torch.FloatTensor(X_Train)\n",
        "X_Test = torch.FloatTensor(X_Test)\n",
        "Y_Train = torch.LongTensor(Y_Train)\n",
        "Y_Test = torch.LongTensor(Y_Test)\n",
        "# By using random_state, the features are always randomly permuted.This is to check and validate the data when running the code multiple times. \n",
        "# Setting random_state a fixed value will guarantee that same sequence of random numbers are generated each time you run the code. \n",
        "# We can set random_state parameter to any integer value.\n",
        "\n",
        "\n",
        "\n",
        "Total_Features = 9 \n",
        "Input_Features_ = Total_Features - 1\n",
        "Output_Features_ = 2 \n",
        "# Output feature is basically a single feature but its value/nature is multiclass that is\n",
        "# it's value can either be 0(Person have diabetes) or 1(Person do not have diabetes).\n",
        "# 1 Output Feature (Diabetic OR Non Diabetic) and 8 Input Features(Remaining Features).\n",
        "\n",
        "class Artificial_Neural_Network(NN.Module):\n",
        "  def __init__(self, Input_Features = Input_Features_, \n",
        "               Output_Features = Output_Features_, \n",
        "               First_Hidden_Layer = 50, \n",
        "               Second_Hidden_Layer = 30,\n",
        "               Third_Hidden_Layer = 10\n",
        "               ):\n",
        "    super().__init__()\n",
        "    self.First_Fully_Connected_Input_Layer = NN.Linear(Input_Features, First_Hidden_Layer)\n",
        "    self.Second_Fully_Connected_Layer = NN.Linear(First_Hidden_Layer, Second_Hidden_Layer)\n",
        "    self.Third_Fully_Connected_Layer = NN.Linear(Second_Hidden_Layer, Third_Hidden_Layer)\n",
        "    self.Output_Layer= NN.Linear(Third_Hidden_Layer, Output_Features)\n",
        "\n",
        "  def forward(self,x):\n",
        "    Output_Of_First_Hidden_Layer = Neural_Network_Functions.relu(self.First_Fully_Connected_Input_Layer(x))\n",
        "    Output_Of_Second_Hidden_Layer = Neural_Network_Functions.relu(self.Second_Fully_Connected_Layer(Output_Of_First_Hidden_Layer))\n",
        "    Output_Of_Third_Hidden_Layer = Neural_Network_Functions.relu(self.Third_Fully_Connected_Layer(Output_Of_Second_Hidden_Layer))\n",
        "    Y_Predicted = Neural_Network_Functions.relu(self.Output_Layer(Output_Of_Third_Hidden_Layer))\n",
        "    return Y_Predicted\n",
        "\n",
        "\n",
        "Total_Epochs = 2000\n",
        "Learning_Rate = 0.001\n",
        "torch.manual_seed(25)\n",
        "Diabetes_Model = Artificial_Neural_Network()\n",
        "Loss_Function = NN.CrossEntropyLoss()\n",
        "Loss_Optimizer = torch.optim.Adam( Diabetes_Model.parameters(), lr = Learning_Rate )\n",
        "\n",
        "for i in range(Total_Epochs):\n",
        "  Predicted = Diabetes_Model.forward(X_Train)\n",
        "  Loss = Loss_Function(Predicted, Y_Train)\n",
        "  Loss_Optimizer.zero_grad()\n",
        "  if i%100 == 0 :\n",
        "    print(Loss.item())\n",
        "  Loss.backward()\n",
        "  Loss_Optimizer.step()\n",
        "\n",
        "\n"
      ],
      "execution_count": 4,
      "outputs": [
        {
          "output_type": "stream",
          "text": [
            "0.7024916410446167\n",
            "0.5608514547348022\n",
            "0.506851851940155\n",
            "0.4713246524333954\n",
            "0.4367997944355011\n",
            "0.41251739859580994\n",
            "0.39126715064048767\n",
            "0.36063364148139954\n",
            "0.3292553126811981\n",
            "0.31234535574913025\n",
            "0.2882673144340515\n",
            "0.27128610014915466\n",
            "0.2565765678882599\n",
            "0.24910378456115723\n",
            "0.23868155479431152\n",
            "0.22272971272468567\n",
            "0.2072310596704483\n",
            "0.19580335915088654\n",
            "0.18823373317718506\n",
            "0.18396298587322235\n"
          ],
          "name": "stdout"
        }
      ]
    },
    {
      "cell_type": "code",
      "metadata": {
        "id": "nnZrnNS3418N"
      },
      "source": [
        "#"
      ],
      "execution_count": null,
      "outputs": []
    }
  ]
}